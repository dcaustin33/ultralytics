{
 "cells": [
  {
   "cell_type": "code",
   "execution_count": 4,
   "metadata": {},
   "outputs": [
    {
     "name": "stdout",
     "output_type": "stream",
     "text": [
      "Removed 2 images without labels\n",
      "Total images: 98\n"
     ]
    },
    {
     "name": "stderr",
     "output_type": "stream",
     "text": [
      " 18%|█▊        | 9/49 [00:09<00:43,  1.09s/it]"
     ]
    }
   ],
   "source": [
    "import os\n",
    "\n",
    "import torch\n",
    "from torch.utils.data import DataLoader\n",
    "\n",
    "from ultralytics import YOLO\n",
    "from ultralytics.custom.dataset import YoloFormatDataset, rt_detr_train_transform, rt_detr_val_transform\n",
    "from ultralytics.custom.hungarian_matcher import HungarianMatcher\n",
    "from ultralytics.custom.trainer import Trainer\n",
    "\n",
    "DATSET_DIR = \"/Users/derek/Desktop/dataset_collection/dataset_collection/yolo_format\"\n",
    "\n",
    "eval_spatial_size = 256\n",
    "\n",
    "dataset = YoloFormatDataset(\n",
    "    root_dir=DATSET_DIR,\n",
    "    split=\"train\",\n",
    "    transform=rt_detr_train_transform(eval_spatial_size),\n",
    ")\n",
    "device = \"cpu\"\n",
    "\n",
    "dataloader = DataLoader(\n",
    "    dataset,\n",
    "    batch_size=2,\n",
    "    shuffle=True,\n",
    "    collate_fn=YoloFormatDataset.ultralytics_collate_fn,\n",
    "    num_workers=0,\n",
    ")\n",
    "model = YOLO(\"yolov8n.pt\")\n",
    "model.model.train()\n",
    "_ = model.to(device)\n",
    "optimizer = torch.optim.Adam(model.model.parameters(), lr=0.001)\n",
    "lr_scheduler = torch.optim.lr_scheduler.CosineAnnealingLR(optimizer, T_max=10)\n",
    "trainer = Trainer(model)\n",
    "\n",
    "\n",
    "trainer.train_one_epoch(\n",
    "    dataloader=dataloader,\n",
    "    optimizer=optimizer,\n",
    "    device=device,\n",
    "    epoch=0,\n",
    "    lr_scheduler=lr_scheduler,\n",
    ")\n"
   ]
  },
  {
   "cell_type": "code",
   "execution_count": 3,
   "metadata": {},
   "outputs": [
    {
     "ename": "AttributeError",
     "evalue": "'NoneType' object has no attribute '_setup_train'",
     "output_type": "error",
     "traceback": [
      "\u001b[0;31m---------------------------------------------------------------------------\u001b[0m",
      "\u001b[0;31mAttributeError\u001b[0m                            Traceback (most recent call last)",
      "Cell \u001b[0;32mIn[3], line 1\u001b[0m\n\u001b[0;32m----> 1\u001b[0m \u001b[43mmodel\u001b[49m\u001b[38;5;241;43m.\u001b[39;49m\u001b[43mtrainer\u001b[49m\u001b[38;5;241;43m.\u001b[39;49m\u001b[43m_setup_train\u001b[49m()\n",
      "\u001b[0;31mAttributeError\u001b[0m: 'NoneType' object has no attribute '_setup_train'"
     ]
    }
   ],
   "source": [
    "model.trainer._setup_train()"
   ]
  }
 ],
 "metadata": {
  "kernelspec": {
   "display_name": ".venv",
   "language": "python",
   "name": "python3"
  },
  "language_info": {
   "codemirror_mode": {
    "name": "ipython",
    "version": 3
   },
   "file_extension": ".py",
   "mimetype": "text/x-python",
   "name": "python",
   "nbconvert_exporter": "python",
   "pygments_lexer": "ipython3",
   "version": "3.10.14"
  }
 },
 "nbformat": 4,
 "nbformat_minor": 2
}
