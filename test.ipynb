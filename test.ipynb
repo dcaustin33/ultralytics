{
 "cells": [
  {
   "cell_type": "code",
   "execution_count": 2,
   "metadata": {},
   "outputs": [
    {
     "name": "stdout",
     "output_type": "stream",
     "text": [
      "Removed 58 images without labels\n",
      "Total images: 42\n",
      "The number of steps are None\n"
     ]
    },
    {
     "name": "stderr",
     "output_type": "stream",
     "text": [
      "5it [00:02,  2.44it/s]\n"
     ]
    }
   ],
   "source": [
    "import os\n",
    "\n",
    "import torch\n",
    "from torch.utils.data import DataLoader\n",
    "\n",
    "from ultralytics import YOLO\n",
    "from ultralytics.custom.dataset import YoloFormatDataset, rt_detr_val_transform\n",
    "from ultralytics.custom.hungarian_matcher import HungarianMatcher\n",
    "from ultralytics.custom.trainer import Trainer\n",
    "\n",
    "DATSET_DIR = \"/home/derek_austin/ultralytics/drone_v7_synthetic\"\n",
    "eval_spatial_size = 256\n",
    "val_dataset = YoloFormatDataset(\n",
    "    root_dir=DATSET_DIR,\n",
    "    split=\"valid\",\n",
    "    transform=rt_detr_val_transform(eval_spatial_size),\n",
    ")\n",
    "device = \"cuda\"\n",
    "\n",
    "val_dataloader = DataLoader(\n",
    "    val_dataset,\n",
    "    batch_size=10,\n",
    "    shuffle=True,\n",
    "    collate_fn=YoloFormatDataset.collate_fn,\n",
    "    num_workers=8,\n",
    ")\n",
    "model = YOLO(\"/home/derek_austin/ultralytics/runs/detect/train4/weights/best.pt\")\n",
    "model.to(device)\n",
    "_ = model.model.eval()\n",
    "# model.predictor.args.verbose = False\n",
    "\n",
    "\n",
    "matcher = HungarianMatcher()\n",
    "trainer = Trainer(model=model, matcher=matcher)\n",
    "trainer.validate_loop(\n",
    "    val_dataloader=val_dataloader,\n",
    "    device=device,\n",
    "    epoch=0,\n",
    "    save_output_file_path=\"test.jsonl\",\n",
    ")"
   ]
  }
 ],
 "metadata": {
  "kernelspec": {
   "display_name": ".venv",
   "language": "python",
   "name": "python3"
  },
  "language_info": {
   "codemirror_mode": {
    "name": "ipython",
    "version": 3
   },
   "file_extension": ".py",
   "mimetype": "text/x-python",
   "name": "python",
   "nbconvert_exporter": "python",
   "pygments_lexer": "ipython3",
   "version": "3.10.14"
  }
 },
 "nbformat": 4,
 "nbformat_minor": 2
}
